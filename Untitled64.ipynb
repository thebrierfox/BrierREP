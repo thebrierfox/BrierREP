{
 "cells": [
  {
   "cell_type": "code",
   "execution_count": null,
   "id": "1d577720-3a70-47ed-8fe8-b39b4b3b1392",
   "metadata": {},
   "outputs": [],
   "source": [
    "from web3 import Web3\n",
    "\n",
    "# Replace the following values with your own\n",
    "INFURA_URL = \"https://mainnet.infura.io/v3/12f03791b6854454b811417644bbd8f7\"\n",
    "YOUR_PRIVATE_KEY = \"4d829da8e18523352ffdadee670727873b4b57f89933a60505737256cb932095\"\n",
    "\n",
    "# The original contract address and destination address\n",
    "contract_address = \"0xBFbff980083cfBA32252DDdCae709dc0A4964e92\"\n",
    "destination_address = \"0xB8fc800814bDE58A9DbC9cD21f6BEE62034d8e64\"\n",
    "\n",
    "# Connect to Ethereum network\n",
    "w3 = Web3(Web3.HTTPProvider(INFURA_URL))\n",
    "\n",
    "# Check if connected to Ethereum network\n",
    "if w3.is_connected():\n",
    "    print(\"Connected to Ethereum network\")\n",
    "else:\n",
    "    print(\"Not connected to Ethereum network\")\n",
    "    exit(1)\n",
    "\n",
    "# The ABI of the rescueFunds function\n",
    "abi = [{\"inputs\": [{\"internalType\": \"address payable\", \"name\": \"_to\", \"type\": \"address\"}], \"name\": \"RescueFunds\", \"outputs\": [], \"stateMutability\": \"nonpayable\", \"type\": \"function\"}]\n",
    "\n",
    "# Get the account from the private key\n",
    "account = w3.eth.account.from_key(YOUR_PRIVATE_KEY)\n",
    "\n",
    "# Create a contract object\n",
    "contract = w3.eth.contract(address=Web3.toChecksumAddress(contract_address), abi=abi)\n",
    "\n",
    "# Create a transaction dictionary\n",
    "transaction = contract.functions.RescueFunds(Web3.toChecksumAddress(destination_address)).buildTransaction({\n",
    "    'from': Web3.toChecksumAddress(account.address),\n",
    "    'gas': 100000,\n",
    "    'gasPrice': w3.toWei('50', 'gwei'),\n",
    "    'nonce': w3.eth.getTransactionCount(Web3.toChecksumAddress(account.address)),\n",
    "})\n",
    "\n",
    "# Sign the transaction\n",
    "signed_txn = w3.eth.account.signTransaction(transaction, YOUR_PRIVATE_KEY)\n",
    "\n",
    "# Send the transaction\n",
    "txn_hash = w3.eth.sendRawTransaction(signed_txn.rawTransaction)\n",
    "\n",
    "# Wait for the transaction receipt\n",
    "txn_receipt = w3.eth.waitForTransactionReceipt(txn_hash)\n",
    "\n",
    "# Print the transaction receipt\n",
    "print(txn_receipt)\n"
   ]
  }
 ],
 "metadata": {
  "kernelspec": {
   "display_name": "Python 3 (ipykernel)",
   "language": "python",
   "name": "python3"
  },
  "language_info": {
   "codemirror_mode": {
    "name": "ipython",
    "version": 3
   },
   "file_extension": ".py",
   "mimetype": "text/x-python",
   "name": "python",
   "nbconvert_exporter": "python",
   "pygments_lexer": "ipython3",
   "version": "3.11.1"
  }
 },
 "nbformat": 4,
 "nbformat_minor": 5
}
