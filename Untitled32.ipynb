{
 "cells": [
  {
   "cell_type": "code",
   "execution_count": 1,
   "id": "d2c540e7-9cf7-4d14-9647-295ca2797e98",
   "metadata": {
    "tags": []
   },
   "outputs": [
    {
     "ename": "SyntaxError",
     "evalue": "invalid syntax (278507821.py, line 1)",
     "output_type": "error",
     "traceback": [
      "\u001b[1;36m  Cell \u001b[1;32mIn[1], line 1\u001b[1;36m\u001b[0m\n\u001b[1;33m    using UnityEngine;\u001b[0m\n\u001b[1;37m          ^\u001b[0m\n\u001b[1;31mSyntaxError\u001b[0m\u001b[1;31m:\u001b[0m invalid syntax\n"
     ]
    }
   ],
   "source": [
    "using UnityEngine;\n",
    "using System.Collections;\n",
    "\n",
    "public class DrugBustSimulation : MonoBehaviour {\n",
    "    public GameObject policeOfficer;\n",
    "    public GameObject drugDealer;\n",
    "    public GameObject drugs;\n",
    "    public GameObject money;\n",
    "    \n",
    "    // Start is called before the first frame update\n",
    "    void Start() {\n",
    "        // Spawn police officer\n",
    "        Instantiate(policeOfficer, new Vector3(-3, 0, 0), Quaternion.identity);\n",
    "        \n",
    "        // Spawn drug dealer\n",
    "        Instantiate(drugDealer, new Vector3(3, 0, 0), Quaternion.identity);\n",
    "        \n",
    "        // Spawn drugs and money\n",
    "        Instantiate(drugs, new Vector3(-1, 0, 0), Quaternion.identity);\n",
    "        Instantiate(money, new Vector3(1, 0, 0), Quaternion.identity);\n",
    "    }\n",
    "\n",
    "    // Update is called once per frame\n",
    "    void Update() {\n",
    "        // Control behavior of police officer and drug dealer\n",
    "        if (Input.GetKey(KeyCode.Space)) {\n",
    "            // Police officer approaches drug dealer\n",
    "            policeOfficer.transform.position = Vector3.MoveTowards(policeOfficer.transform.position, drugDealer.transform.position, Time.deltaTime);\n",
    "            \n",
    "            // Drug dealer tries to escape\n",
    "            drugDealer.transform.position = Vector3.MoveTowards(drugDealer.transform.position, new Vector3(10, 0, 0), Time.deltaTime);\n",
    "        }\n",
    "    }\n",
    "}\n"
   ]
  },
  {
   "cell_type": "code",
   "execution_count": null,
   "id": "2ffb64a5-62a5-41c1-a983-a2be245721d9",
   "metadata": {},
   "outputs": [],
   "source": []
  }
 ],
 "metadata": {
  "kernelspec": {
   "display_name": "Python 3 (ipykernel)",
   "language": "python",
   "name": "python3"
  },
  "language_info": {
   "codemirror_mode": {
    "name": "ipython",
    "version": 3
   },
   "file_extension": ".py",
   "mimetype": "text/x-python",
   "name": "python",
   "nbconvert_exporter": "python",
   "pygments_lexer": "ipython3",
   "version": "3.11.1"
  }
 },
 "nbformat": 4,
 "nbformat_minor": 5
}
