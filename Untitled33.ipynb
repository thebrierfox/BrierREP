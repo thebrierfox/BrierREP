{
 "cells": [
  {
   "cell_type": "code",
   "execution_count": 4,
   "id": "a341a72e-c819-4883-a076-ad7a7ce59564",
   "metadata": {
    "tags": []
   },
   "outputs": [
    {
     "ename": "KeyError",
     "evalue": "'data'",
     "output_type": "error",
     "traceback": [
      "\u001b[1;31m---------------------------------------------------------------------------\u001b[0m",
      "\u001b[1;31mKeyError\u001b[0m                                  Traceback (most recent call last)",
      "Cell \u001b[1;32mIn[4], line 26\u001b[0m\n\u001b[0;32m     24\u001b[0m total_sentiment \u001b[38;5;241m=\u001b[39m \u001b[38;5;241m0\u001b[39m\n\u001b[0;32m     25\u001b[0m post_count \u001b[38;5;241m=\u001b[39m \u001b[38;5;241m0\u001b[39m\n\u001b[1;32m---> 26\u001b[0m \u001b[38;5;28;01mfor\u001b[39;00m post \u001b[38;5;129;01min\u001b[39;00m \u001b[43mresponse\u001b[49m\u001b[38;5;241;43m.\u001b[39;49m\u001b[43mjson\u001b[49m\u001b[43m(\u001b[49m\u001b[43m)\u001b[49m\u001b[43m[\u001b[49m\u001b[38;5;124;43m'\u001b[39;49m\u001b[38;5;124;43mdata\u001b[39;49m\u001b[38;5;124;43m'\u001b[39;49m\u001b[43m]\u001b[49m:\n\u001b[0;32m     27\u001b[0m     \u001b[38;5;28;01mif\u001b[39;00m \u001b[38;5;124m'\u001b[39m\u001b[38;5;124mmessage\u001b[39m\u001b[38;5;124m'\u001b[39m \u001b[38;5;129;01min\u001b[39;00m post:\n\u001b[0;32m     28\u001b[0m         sentiment \u001b[38;5;241m=\u001b[39m TextBlob(post[\u001b[38;5;124m'\u001b[39m\u001b[38;5;124mmessage\u001b[39m\u001b[38;5;124m'\u001b[39m])\u001b[38;5;241m.\u001b[39msentiment\u001b[38;5;241m.\u001b[39mpolarity\n",
      "\u001b[1;31mKeyError\u001b[0m: 'data'"
     ]
    }
   ],
   "source": [
    "import requests\n",
    "from textblob import TextBlob\n",
    "\n",
    "# Define search criteria\n",
    "keywords = ['bitcoin', 'cryptocurrency', 'crypto market', 'blockchain']\n",
    "language = 'en'\n",
    "\n",
    "# Define API endpoint and access token\n",
    "endpoint = 'https://graph.facebook.com/v12.0/search'\n",
    "access_token = 'EAAIURlYEcf8BABEv6UN2jKiJYanhskQiEuelB01yVOK2QWqkZBjU9izzjZAx9lg8OVlVvvqeq5m68R49HbS1jmW0OIR2bSZCnlb8lbaGaQZAQ3mw9B89CjbkfduYaDXSJ0AI7Ju2mlATseg3iPYVqa4cpcY4xOSJoZBLkcjd6JBwEWwwQX7oINf0IGW5ONMXvLMg6sCc3dHt1ceed9mpUtxgayCB9WuwZD'\n",
    "\n",
    "# Make API request\n",
    "params = {\n",
    "    'q': ','.join(keywords),\n",
    "    'type': 'post',\n",
    "    'fields': 'message',\n",
    "    'locale': language,\n",
    "    'access_token': access_token\n",
    "}\n",
    "\n",
    "response = requests.get(endpoint, params=params)\n",
    "\n",
    "# Analyze the sentiment of each post and calculate the average sentiment score\n",
    "total_sentiment = 0\n",
    "post_count = 0\n",
    "for post in response.json()['data']:\n",
    "    if 'message' in post:\n",
    "        sentiment = TextBlob(post['message']).sentiment.polarity\n",
    "        total_sentiment += sentiment\n",
    "        post_count += 1\n",
    "average_sentiment = total_sentiment / post_count\n",
    "\n",
    "# Print out the average sentiment score\n",
    "print('Average sentiment score:', average_sentiment)\n"
   ]
  },
  {
   "cell_type": "code",
   "execution_count": null,
   "id": "52c0cc04-e33b-4808-a632-baeb8bef8b3e",
   "metadata": {},
   "outputs": [],
   "source": []
  }
 ],
 "metadata": {
  "kernelspec": {
   "display_name": "Python 3 (ipykernel)",
   "language": "python",
   "name": "python3"
  },
  "language_info": {
   "codemirror_mode": {
    "name": "ipython",
    "version": 3
   },
   "file_extension": ".py",
   "mimetype": "text/x-python",
   "name": "python",
   "nbconvert_exporter": "python",
   "pygments_lexer": "ipython3",
   "version": "3.11.1"
  }
 },
 "nbformat": 4,
 "nbformat_minor": 5
}
