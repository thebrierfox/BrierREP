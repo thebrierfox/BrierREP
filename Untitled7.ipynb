{
 "cells": [
  {
   "cell_type": "code",
   "execution_count": 2,
   "id": "e8a4b641-94fb-4f32-81f8-41ff7d048c34",
   "metadata": {
    "tags": []
   },
   "outputs": [
    {
     "ename": "ModuleNotFoundError",
     "evalue": "No module named 'torch'",
     "output_type": "error",
     "traceback": [
      "\u001b[1;31m---------------------------------------------------------------------------\u001b[0m",
      "\u001b[1;31mModuleNotFoundError\u001b[0m                       Traceback (most recent call last)",
      "Cell \u001b[1;32mIn[2], line 1\u001b[0m\n\u001b[1;32m----> 1\u001b[0m \u001b[38;5;28;01mimport\u001b[39;00m \u001b[38;5;21;01mtorch\u001b[39;00m\n\u001b[0;32m      2\u001b[0m \u001b[38;5;28;01mimport\u001b[39;00m \u001b[38;5;21;01mtorch\u001b[39;00m\u001b[38;5;21;01m.\u001b[39;00m\u001b[38;5;21;01mnn\u001b[39;00m \u001b[38;5;28;01mas\u001b[39;00m \u001b[38;5;21;01mnn\u001b[39;00m\n\u001b[0;32m      3\u001b[0m \u001b[38;5;28;01mimport\u001b[39;00m \u001b[38;5;21;01mtorch\u001b[39;00m\u001b[38;5;21;01m.\u001b[39;00m\u001b[38;5;21;01moptim\u001b[39;00m \u001b[38;5;28;01mas\u001b[39;00m \u001b[38;5;21;01moptim\u001b[39;00m\n",
      "\u001b[1;31mModuleNotFoundError\u001b[0m: No module named 'torch'"
     ]
    }
   ],
   "source": [
    "import torch\n",
    "import torch.nn as nn\n",
    "import torch.optim as optim\n",
    "import numpy as np\n",
    "import gym\n",
    "\n",
    "# Define the neural network architecture\n",
    "class TradingNet(nn.Module):\n",
    "    def __init__(self, state_size, action_size):\n",
    "        super(TradingNet, self).__init__()\n",
    "        self.fc1 = nn.Linear(state_size, 32)\n",
    "        self.fc2 = nn.Linear(32, 32)\n",
    "        self.fc3 = nn.Linear(32, action_size)\n",
    "        \n",
    "    def forward(self, state):\n",
    "        x = torch.relu(self.fc1(state))\n",
    "        x = torch.relu(self.fc2(x))\n",
    "        x = self.fc3(x)\n",
    "        return x\n",
    "\n",
    "# Load the expert traders' strategies\n",
    "strategies = np.load('expert_strategies.npy')\n",
    "\n",
    "# Preprocess the data for training\n",
    "states = torch.from_numpy(strategies[:, :-1]).float()\n",
    "actions = torch.from_numpy(strategies[:, -1]).float()\n",
    "\n",
    "# Create a training dataset from the preprocessed data\n",
    "dataset = torch.utils.data.TensorDataset(states, actions)\n",
    "dataloader = torch.utils.data.DataLoader(dataset, batch_size=32, shuffle=True)\n",
    "\n",
    "# Define the state and action sizes\n",
    "state_size = states.shape[1]\n",
    "action_size = actions.shape[1]\n",
    "\n",
    "# Initialize the model\n",
    "model = TradingNet(state_size, action_size)\n",
    "\n",
    "# Define the loss function and optimizer\n",
    "criterion = nn.MSELoss()\n",
    "optimizer = optim.Adam(model.parameters())\n",
    "\n",
    "# Train the model on the expert traders' strategies\n",
    "for epoch in range(100):\n",
    "    for states, actions in dataloader:\n",
    "        # Forward pass\n",
    "        outputs = model(states)\n",
    "        loss = criterion(outputs, actions)\n",
    "\n",
    "        # Backward and optimize\n",
    "        optimizer.zero_grad()\n",
    "        loss.backward()\n",
    "        optimizer.step()\n",
    "\n",
    "    print(f'Epoch [{epoch+1}/100], Loss: {loss.item()}')\n",
    "\n",
    "# Save the trained model\n",
    "torch.save(model.state_dict(), 'trading_model.pt')\n",
    "\n",
    "# Load the test trading data\n",
    "test_data = np.load('test_data.npy')\n",
    "test_states = torch.from_numpy(test_data[:, :-1]).float()\n",
    "\n",
    "# Use the trained model to make predictions on the test data\n",
    "with torch.no_grad():\n",
    "    model.eval()\n",
    "    predictions = model(test_states)\n",
    "\n",
    "# Evaluate the performance of the model on the test data\n",
    "performance = np.mean(np.abs(predictions - test_data[:, -1]))\n",
    "print(f'Model performance on test data: {performance}')\n"
   ]
  },
  {
   "cell_type": "code",
   "execution_count": null,
   "id": "9c23fd00-4350-47d1-a3b5-9f005ccfac43",
   "metadata": {},
   "outputs": [],
   "source": []
  }
 ],
 "metadata": {
  "kernelspec": {
   "display_name": "Python 3 (ipykernel)",
   "language": "python",
   "name": "python3"
  },
  "language_info": {
   "codemirror_mode": {
    "name": "ipython",
    "version": 3
   },
   "file_extension": ".py",
   "mimetype": "text/x-python",
   "name": "python",
   "nbconvert_exporter": "python",
   "pygments_lexer": "ipython3",
   "version": "3.11.1"
  }
 },
 "nbformat": 4,
 "nbformat_minor": 5
}
