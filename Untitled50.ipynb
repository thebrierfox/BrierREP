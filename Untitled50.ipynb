{
 "cells": [
  {
   "cell_type": "code",
   "execution_count": 2,
   "id": "eeb7677a-b7d0-476f-ae5e-3450dcd7d6d5",
   "metadata": {
    "tags": []
   },
   "outputs": [
    {
     "ename": "SyntaxError",
     "evalue": "invalid decimal literal (300266794.py, line 1)",
     "output_type": "error",
     "traceback": [
      "\u001b[1;36m  Cell \u001b[1;32mIn[2], line 1\u001b[1;36m\u001b[0m\n\u001b[1;33m    curl --url https://mainnet.infura.io/v3/12f03791b6854454b811417644bbd8f7 \\\u001b[0m\n\u001b[1;37m                                             ^\u001b[0m\n\u001b[1;31mSyntaxError\u001b[0m\u001b[1;31m:\u001b[0m invalid decimal literal\n"
     ]
    }
   ],
   "source": [
    "curl --url https://mainnet.infura.io/v3/12f03791b6854454b811417644bbd8f7 \\\n",
    "-X POST \\\n",
    "-H \"Content-Type: application/json\" \\\n",
    "-d '{\"jsonrpc\":\"2.0\",\"method\":\"eth_blockNumber\",\"params\":[],\"id\":1}'"
   ]
  },
  {
   "cell_type": "code",
   "execution_count": null,
   "id": "b2f9f62d-65c4-4dfc-88cd-a28fb2a557c6",
   "metadata": {},
   "outputs": [],
   "source": []
  }
 ],
 "metadata": {
  "kernelspec": {
   "display_name": "Python 3 (ipykernel)",
   "language": "python",
   "name": "python3"
  },
  "language_info": {
   "codemirror_mode": {
    "name": "ipython",
    "version": 3
   },
   "file_extension": ".py",
   "mimetype": "text/x-python",
   "name": "python",
   "nbconvert_exporter": "python",
   "pygments_lexer": "ipython3",
   "version": "3.11.1"
  }
 },
 "nbformat": 4,
 "nbformat_minor": 5
}
-\n",
    "-\n",
    "-\n",
    "-\n",
    "-\n",
    "-\n",
    "-\n",
    "-\n",
    "-\n",
    "-\n",
    "-\n",
    "-\n",
    "-\n",
    "-\n",
    "-\n",
    "-\n",
    "-\n",
    "-\n",
    "-\n",
    "-\n",
    "-\n",
    "-\n",
    "-\n",
    "-\n",
    "-\n",
    "-\n",
    "-\n",
    "-\n",
    "-\n",
    "-\n",
    "-\n",
    "-\n",
    "-\n",
    "-\n",
    "-\n",
    "-\n",
    "-\n",
    "-\n",
    "-\n",
    "-\n",
    "-\n",
    "-\n",
    "-\n",
    "-\n",
    "-\n",
    "-\n",
    "-\n",
    "-\n",
    "-\n",
    "-\n",
    "-\n",
    "-\n",
    "-\n",
    "-\n",
    "-\n",
    "-\n",
    "-\n",
    "-\n",
    "-\n",
    "-\n",
    "-\n",
    "-\n",
    "-\n",
    "-\n",
    "-\n",
    "-\n",
    "-\n",
    "-\n",
    "-\n",
    "-\n",
    "-\n",
    "-\n",
    "-\n",
    "-\n",
    "-\n",
    "-\n",
    "-\n",
    "-\n",
    "-\n",
    "-\n",
    "-\n",
    "-\n",
    "-\n",
    "-\n",
    "-\n",
    "-\n",
    "-\n",
    "-\n",
    "-\n",
    "-\n",
    "-\n",
    "-\n",
    "-\n",
    "-\n",
    "-\n",
    "-\n",
    "-\n",
    "-\n",
    "-\n",
    "-\n",
    "-\n",
    "-\n",
    "-\n"
   ]
  },
  {
   "cell_type": "code",
   "execution_count": null,
   "id": "b2f9f62d-65c4-4dfc-88cd-a28fb2a557c6",
   "metadata": {},
   "outputs": [],
   "source": [
    "Welcome to the Smarter Living newsletter! Every Monday, S.L. editor Tim Herrera emails readers with tips and advice for living a better, more fulfilling life. Sign up here to get it in your inbox.\n",
    "\n",
    "Happy Monday, my dear Smarter Living friends. I hope you had a nice weekend.\n",
    "\n",
    "In case you missed it, here’s what I found interesting this week:\n",
    "\n",
    "Long-distance relationships are tough, and they only get tougher when you’re living in different countries. But there are a few steps you can take to make sure you don’t lose your love for one another — or your sanity — in the meantime.\n",
    "\n",
    "If you’re trying to lose weight, resist the urge to make your goal an arbitrary number on a scale. Instead, focus on the progress you’ve made and the habits you’ve formed. As our colleagues at Wellness put it, “The goal is to create a healthier lifestyle, not just to lose weight.”\n",
    "\n",
    "And finally, some good news: Not all of your most beloved cartoons have been ruined by capitalism! Some of them are just as good today as they were when you were growing up.\n",
    "\n",
    "— Tim\n",
    "const config = require('./config');\n",
    "\n",
    "const mongoose = require('mongoose');\n",
    "mongoose.connect(config.database, {\n",
    "    useNewUrlParser: true,\n",
    "    useUnifiedTopology: true\n",
    "});\n",
    "\n",
    "module.exports = mongoose;"
   ]
  }
 ],
 "metadata": {
  "kernelspec": {
   "display_name": "Python 3 (ipykernel)",
   "language": "python",
   "name": "python3"
  },
  "language_info": {
   "codemirror_mode": {
    "name": "ipython",
    "version": 3
   },
   "file_extension": ".py",
   "mimetype": "text/x-python",
   "name": "python",
   "nbconvert_exporter": "python",
   "pygments_lexer": "ipython3",
   "version": "3.11.1"
  }
 },
 "nbformat": 4,
 "nbformat_minor": 5
}
