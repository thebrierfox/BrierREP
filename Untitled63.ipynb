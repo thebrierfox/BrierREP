{
 "cells": [
  {
   "cell_type": "code",
   "execution_count": 2,
   "id": "45c8fd2d-ea18-4c27-ab40-fd9ce19f74ec",
   "metadata": {
    "tags": []
   },
   "outputs": [],
   "source": [
    "import requests\n",
    "from bs4 import BeautifulSoup\n",
    "\n",
    "# specify the URL of the website to scrape\n",
    "url = \"https://poplarbluffchamber.chambermaster.com/list/searchalpha/a?o=\"\n",
    "\n",
    "# send a GET request to the specified URL\n",
    "response = requests.get(url)\n",
    "\n",
    "# parse the HTML content of the website using BeautifulSoup\n",
    "soup = BeautifulSoup(response.content, 'html.parser')\n",
    "\n",
    "# find all the business names on the webpage\n",
    "business_names = []\n",
    "for business in soup.find_all('div', class_='row listing'):\n",
    "    business_name = business.find('a').text.strip()\n",
    "    business_names.append(business_name)\n",
    "\n",
    "# write the business names to a .txt file\n",
    "with open('business_names.txt', 'w') as file:\n",
    "    for name in business_names:\n",
    "        file.write(name + '\\n')"
   ]
  },
  {
   "cell_type": "code",
   "execution_count": null,
   "id": "de9ea654-8ed1-43f3-9daf-524968f29316",
   "metadata": {},
   "outputs": [],
   "source": []
  }
 ],
 "metadata": {
  "kernelspec": {
   "display_name": "Python 3 (ipykernel)",
   "language": "python",
   "name": "python3"
  },
  "language_info": {
   "codemirror_mode": {
    "name": "ipython",
    "version": 3
   },
   "file_extension": ".py",
   "mimetype": "text/x-python",
   "name": "python",
   "nbconvert_exporter": "python",
   "pygments_lexer": "ipython3",
   "version": "3.11.1"
  }
 },
 "nbformat": 4,
 "nbformat_minor": 5
}
