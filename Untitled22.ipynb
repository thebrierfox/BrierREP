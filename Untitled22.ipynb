{
 "cells": [
  {
   "cell_type": "code",
   "execution_count": 9,
   "id": "b620e43d-0f20-4a55-b4d8-9681ad9e4e61",
   "metadata": {
    "tags": []
   },
   "outputs": [
    {
     "ename": "NameError",
     "evalue": "name 'scaler' is not defined",
     "output_type": "error",
     "traceback": [
      "\u001b[1;31m---------------------------------------------------------------------------\u001b[0m",
      "\u001b[1;31mNameError\u001b[0m                                 Traceback (most recent call last)",
      "Cell \u001b[1;32mIn[9], line 72\u001b[0m\n\u001b[0;32m     70\u001b[0m cash \u001b[38;5;241m=\u001b[39m initial_investment\n\u001b[0;32m     71\u001b[0m shares \u001b[38;5;241m=\u001b[39m \u001b[38;5;241m0\u001b[39m\n\u001b[1;32m---> 72\u001b[0m scaled_data \u001b[38;5;241m=\u001b[39m \u001b[43mscaler\u001b[49m\u001b[38;5;241m.\u001b[39mtransform(features)\n\u001b[0;32m     73\u001b[0m \u001b[38;5;28;01mfor\u001b[39;00m i \u001b[38;5;129;01min\u001b[39;00m \u001b[38;5;28mrange\u001b[39m(\u001b[38;5;241m60\u001b[39m, \u001b[38;5;28mlen\u001b[39m(scaled_data)):\n\u001b[0;32m     74\u001b[0m     signal \u001b[38;5;241m=\u001b[39m predict_signal(scaled_data[i\u001b[38;5;241m-\u001b[39m\u001b[38;5;241m60\u001b[39m:i, \u001b[38;5;241m0\u001b[39m], scaler, model)\n",
      "\u001b[1;31mNameError\u001b[0m: name 'scaler' is not defined"
     ]
    }
   ],
   "source": [
    "import yfinance as yf\n",
    "import pandas as pd\n",
    "import numpy as np\n",
    "import tensorflow as tf\n",
    "from sklearn.preprocessing import MinMaxScaler\n",
    "from sklearn.model_selection import train_test_split\n",
    "from keras.models import Sequential\n",
    "from keras.layers import Dense, Dropout, LSTM\n",
    "from keras.optimizers import Adam\n",
    "\n",
    "def run_trading_algorithm(ticker, start_date, end_date, initial_investment=1000):\n",
    "    \"\"\"\n",
    "    Downloads historical data for a given ticker symbol and performs the trading algorithm.\n",
    "    \"\"\"\n",
    "    # Download historical data\n",
    "    data = yf.download(ticker, start=start_date, end=end_date)\n",
    "\n",
    "    # Drop columns other than Date, Open, High, Low, Close, and Volume\n",
    "    data = data.drop([\"Adj Close\"], axis=1)\n",
    "\n",
    "    # Rename columns to match the required names\n",
    "    data = data.rename(columns={\"Date\": \"Date\", \"Open\": \"Open\", \"High\": \"High\", \"Low\": \"Low\", \"Close\": \"Close\", \"Volume\": \"Volume\"})\n",
    "\n",
    "    # Save data to a CSV file\n",
    "    data.to_csv(\"historical_data.csv\", index=False)\n",
    "\n",
    "    # Feature engineering\n",
    "    features = data.drop([\"Date\", \"Open\", \"High\", \"Low\", \"Volume\"], axis=1)\n",
    "    scaler = MinMaxScaler(feature_range=(0, 1))\n",
    "    scaled_data = scaler.fit_transform(features)\n",
    "    X = []\n",
    "    y = []\n",
    "    for i in range(60, len(data)):\n",
    "        X.append(scaled_data[i-60:i, 0])\n",
    "        y.append(scaled_data[i, 0])\n",
    "    X, y = np.array(X), np.array(y)\n",
    "    X = np.reshape(X, (X.shape[0], X.shape[1], 1))\n",
    "\n",
    "    # Neural network architecture selection\n",
    "    model = Sequential()\n",
    "    model.add(LSTM(units=50, return_sequences=True, input_shape=(X.shape[1], 1)))\n",
    "    model.add(Dropout(0.2))\n",
    "    model.add(LSTM(units=50, return_sequences=True))\n",
    "    model.add(Dropout(0.2))\n",
    "    model.add(LSTM(units=50))\n",
    "    model.add(Dropout(0.2))\n",
    "    model.add(Dense(units=1))\n",
    "    model.compile(optimizer=Adam(learning_rate=0.0005), loss='mean_squared_error')\n",
    "\n",
    "    # Model training and evaluation\n",
    "    X_train, X_test, y_train, y_test = train_test_split(X, y, test_size=0.2)\n",
    "    history = model.fit(X_train, y_train, epochs=100, batch_size=32, validation_data=(X_test, y_test))\n",
    "    y_pred = model.predict(X_test)\n",
    "    rmse = np.sqrt(np.mean(((y_pred - y_test) ** 2)))\n",
    "    print(\"RMSE: \", rmse)\n",
    "\n",
    "    # Trading algorithm implementation\n",
    "    def predict_signal(data):\n",
    "        scaled_data = scaler.transform(data)\n",
    "        X_test = []\n",
    "        for i in range(60, len(scaled_data)):\n",
    "            X_test.append(scaled_data[i-60:i, 0])\n",
    "        X_test = np.array(X_test)\n",
    "        X_test = np.reshape(X_test, (X_test.shape[0], X_test.shape[1], 1))\n",
    "        y_pred = model.predict(X_test)\n",
    "        return scaler.inverse_transform(y_pred)[-1]\n",
    "\n",
    "    # Backtesting and Live Trading\n",
    "initial_investment = 1000\n",
    "cash = initial_investment\n",
    "shares = 0\n",
    "scaled_data = scaler.transform(features)\n",
    "for i in range(60, len(scaled_data)):\n",
    "    signal = predict_signal(scaled_data[i-60:i, 0], scaler, model)\n",
    "    if signal > scaled_data[i-1, 0] and cash > 0:\n",
    "        shares = cash / data[\"Close\"][i]\n",
    "        cash = 0\n",
    "    elif signal < scaled_data[i-1, 0] and shares > 0:\n",
    "        cash = shares * data[\"Close\"][i]\n",
    "        shares = 0\n",
    "print(\"Final portfolio value: \", cash + shares * data[\"Close\"][-1])"
   ]
  },
  {
   "cell_type": "code",
   "execution_count": null,
   "id": "34826acf-7b64-4d36-9534-b10bbcd93b99",
   "metadata": {},
   "outputs": [],
   "source": []
  }
 ],
 "metadata": {
  "kernelspec": {
   "display_name": "Python 3 (ipykernel)",
   "language": "python",
   "name": "python3"
  },
  "language_info": {
   "codemirror_mode": {
    "name": "ipython",
    "version": 3
   },
   "file_extension": ".py",
   "mimetype": "text/x-python",
   "name": "python",
   "nbconvert_exporter": "python",
   "pygments_lexer": "ipython3",
   "version": "3.11.1"
  }
 },
 "nbformat": 4,
 "nbformat_minor": 5
}
