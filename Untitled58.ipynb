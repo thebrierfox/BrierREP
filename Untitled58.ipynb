{
 "cells": [
  {
   "cell_type": "code",
   "execution_count": 2,
   "id": "ca16d866-4e04-4fdc-8af0-bdb0be439c2f",
   "metadata": {
    "tags": []
   },
   "outputs": [
    {
     "ename": "NameError",
     "evalue": "name 'extract_tickers' is not defined",
     "output_type": "error",
     "traceback": [
      "\u001b[1;31m---------------------------------------------------------------------------\u001b[0m",
      "\u001b[1;31mNameError\u001b[0m                                 Traceback (most recent call last)",
      "Cell \u001b[1;32mIn[2], line 19\u001b[0m\n\u001b[0;32m     16\u001b[0m         \u001b[38;5;28;01mbreak\u001b[39;00m\n\u001b[0;32m     18\u001b[0m \u001b[38;5;66;03m# Extract the tickers from the JSON string and save them to a CSV file\u001b[39;00m\n\u001b[1;32m---> 19\u001b[0m \u001b[43mextract_tickers\u001b[49m(json_str, \u001b[38;5;124m\"\u001b[39m\u001b[38;5;124mtickers.csv\u001b[39m\u001b[38;5;124m\"\u001b[39m)\n",
      "\u001b[1;31mNameError\u001b[0m: name 'extract_tickers' is not defined"
     ]
    }
   ],
   "source": [
    "import requests\n",
    "from bs4 import BeautifulSoup\n",
    "\n",
    "# Send a GET request to the webpage\n",
    "url = \"https://www.dividend.com/best-high-dividend-stocks/\"\n",
    "response = requests.get(url)\n",
    "\n",
    "# Parse the HTML response using BeautifulSoup\n",
    "soup = BeautifulSoup(response.content, \"html.parser\")\n",
    "\n",
    "# Extract the JSON string from the soup\n",
    "json_str = \"\"\n",
    "for script in soup.find_all(\"script\"):\n",
    "    if \"Highcharts.stockChart\" in str(script):\n",
    "        json_str = str(script)\n",
    "        break\n",
    "\n",
    "# Extract the tickers from the JSON string and save them to a CSV file\n",
    "extract_tickers(json_str, \"tickers.csv\")\n"
   ]
  },
  {
   "cell_type": "code",
   "execution_count": null,
   "id": "80fba73d-054b-4600-be45-d0866201303a",
   "metadata": {},
   "outputs": [],
   "source": []
  },
  {
   "cell_type": "code",
   "execution_count": null,
   "id": "5757796c-439d-475c-98a6-423d6b637b75",
   "metadata": {},
   "outputs": [],
   "source": []
  }
 ],
 "metadata": {
  "kernelspec": {
   "display_name": "Python 3 (ipykernel)",
   "language": "python",
   "name": "python3"
  },
  "language_info": {
   "codemirror_mode": {
    "name": "ipython",
    "version": 3
   },
   "file_extension": ".py",
   "mimetype": "text/x-python",
   "name": "python",
   "nbconvert_exporter": "python",
   "pygments_lexer": "ipython3",
   "version": "3.11.1"
  }
 },
 "nbformat": 4,
 "nbformat_minor": 5
}
