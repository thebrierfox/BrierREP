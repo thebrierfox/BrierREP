{
 "cells": [
  {
   "cell_type": "code",
   "execution_count": 1,
   "id": "fe65a9ab-b8db-446a-8e28-c865a1eb2709",
   "metadata": {
    "tags": []
   },
   "outputs": [],
   "source": [
    "import yfinance as yf\n",
    "from datetime import datetime, timedelta\n",
    "\n",
    "# Define the time frame for ex-dividend dates\n",
    "today = datetime.today()\n",
    "timeframe = timedelta(days=30)\n",
    "cutoff_date = today + timeframe\n",
    "\n",
    "# Retrieve a list of all stocks\n",
    "stocks = yf.Tickers('')\n",
    "\n",
    "# Filter the list to include only dividend yielding stocks with a history of consistent or increasing dividends\n",
    "dividend_stocks = [s.ticker for s in stocks.tickers if s.info['dividendYield'] > 0 and s.dividends[-4:].sum() > 0]\n",
    "\n",
    "# Filter the list to include only dividend yielding stocks with an upcoming ex-dividend date within the time frame and a reasonable dividend payout ratio\n",
    "ex_dividend_stocks = [s for s in dividend_stocks if yf.Ticker(s).history(start=cutoff_date)['Dividends'].sum() > 0 and yf.Ticker(s).info['payoutRatio'] < 0.5]\n",
    "\n",
    "# Rank the list by dividend yield and focus on the highest yielding stocks\n",
    "sorted_dividend_stocks = sorted(ex_dividend_stocks, key=lambda s: yf.Ticker(s).info['dividendYield'], reverse=True)\n",
    "\n",
    "# Use a value investing approach to identify undervalued stocks\n",
    "value_stocks = [s for s in sorted_dividend_stocks if yf.Ticker(s).info['trailingPE'] < 20 and yf.Ticker(s).info['dividendYield'] > yf.Ticker(s).info['dividendYield'].mean()]\n",
    "\n",
    "# Use a dividend growth investing approach to identify companies with a history of consistent or increasing dividends\n",
    "dividend_growth_stocks = [s for s in value_stocks if yf.Ticker(s).info['dividendRate'] > yf.Ticker(s).dividends[-5:].mean()]\n",
    "\n",
    "# Use the Dogs of the Dow strategy to select the top 10 highest yielding stocks in the Dow Jones Industrial Average\n",
    "dow_stocks = sorted_dividend_stocks[:10]\n",
    "\n",
    "# Combine the lists of stocks and diversify the portfolio by selecting stocks from different sectors and regions\n",
    "sectors = ['Technology', 'Healthcare', 'Financial Services', 'Energy', 'Consumer Cyclical', 'Industrials', 'Communication Services', 'Consumer Defensive', 'Basic Materials', 'Real Estate', 'Utilities']\n",
    "regions = ['USA', 'Europe', 'Asia']\n",
    "\n",
    "portfolio = []\n",
    "for sector in sectors:\n",
    "    for region in regions:\n",
    "        # Retrieve a list of dividend yielding stocks in the selected sector and region\n",
    "        filtered_stocks = [s for s in dividend_growth_stocks + dow_stocks if yf.Ticker(s).info['sector'] == sector and yf.Ticker(s).info['country'] == region]\n",
    "        if len(filtered_stocks) > 0:\n",
    "            # Select the highest yielding stock in the sector and region\n",
    "            highest_yielding_stock = filtered_stocks[0]\n",
    "            portfolio.append(highest_yielding_stock)\n",
    "\n",
    "# Set a target price and take profits when the stock reaches the target price\n",
    "target_price = 1.05\n",
    "\n",
    "# Buy the stocks shortly before their ex-dividend date and sell them once they reach the target price\n",
    "for stock in portfolio:\n",
    "    ex_dividend_date = yf.Ticker(stock).calendar.iloc[0]['Ex-Dividend Date']\n",
    "    if ex_dividend_date > today:\n",
    "        # Buy the stock and hold it until the ex-dividend date\n",
    "        buy_price = yf.Ticker(stock).history(start=today, end=ex_dividend_date)['Close'][0]\n",
    "        print(f'Bought {stock} at {buy_price}')\n",
    "        # Sell the stock once it reaches the target price\n",
    "        while True:\n",
    "            current_price = yf.Ticker(stock).info['regularMarketPrice']\n",
    "            if current_price >= target_price * buy_price:\n",
    "                print(f'Sold {stock} at {current_price}')\n",
    "                break"
   ]
  },
  {
   "cell_type": "code",
   "execution_count": null,
   "id": "4905d758-1ef9-4761-80d8-2d5fc826697f",
   "metadata": {},
   "outputs": [],
   "source": []
  }
 ],
 "metadata": {
  "kernelspec": {
   "display_name": "Python 3 (ipykernel)",
   "language": "python",
   "name": "python3"
  },
  "language_info": {
   "codemirror_mode": {
    "name": "ipython",
    "version": 3
   },
   "file_extension": ".py",
   "mimetype": "text/x-python",
   "name": "python",
   "nbconvert_exporter": "python",
   "pygments_lexer": "ipython3",
   "version": "3.11.1"
  }
 },
 "nbformat": 4,
 "nbformat_minor": 5
}
