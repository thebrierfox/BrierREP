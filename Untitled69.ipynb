{
 "cells": [
  {
   "cell_type": "code",
   "execution_count": null,
   "id": "d99f0081-232c-4c64-9983-1cad47f8fe08",
   "metadata": {},
   "outputs": [],
   "source": [
    "#!/bin/bash\n",
    "\n",
    "# Step 1: Download all files of the website\n",
    "wget -r -np -nH --cut-dirs=1 -R index.html http://example.com\n",
    "\n",
    "# Step 2: Export the database\n",
    "mysqldump -u [username] -p[password] [database_name] > database.sql\n",
    "\n",
    "# Step 3: Copy the files and database to the new location\n",
    "scp -r example.com [username]@[new_server]:/path/to/website\n",
    "scp database.sql [username]@[new_server]:/path/to/website\n",
    "\n",
    "# Step 4: Import the database on the new server\n",
    "mysql -u [username] -p[password] [database_name] < database.sql\n"
   ]
  }
 ],
 "metadata": {
  "kernelspec": {
   "display_name": "Python 3 (ipykernel)",
   "language": "python",
   "name": "python3"
  },
  "language_info": {
   "codemirror_mode": {
    "name": "ipython",
    "version": 3
   },
   "file_extension": ".py",
   "mimetype": "text/x-python",
   "name": "python",
   "nbconvert_exporter": "python",
   "pygments_lexer": "ipython3",
   "version": "3.11.1"
  }
 },
 "nbformat": 4,
 "nbformat_minor": 5
}
