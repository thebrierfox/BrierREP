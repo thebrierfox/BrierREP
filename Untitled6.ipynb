{
 "cells": [
  {
   "cell_type": "code",
   "execution_count": 2,
   "id": "552827af-d51f-4b43-90d5-85643036f99c",
   "metadata": {
    "tags": []
   },
   "outputs": [
    {
     "ename": "AttributeError",
     "evalue": "module 'nmap' has no attribute 'PortScanner'",
     "output_type": "error",
     "traceback": [
      "\u001b[1;31m---------------------------------------------------------------------------\u001b[0m",
      "\u001b[1;31mAttributeError\u001b[0m                            Traceback (most recent call last)",
      "Cell \u001b[1;32mIn[2], line 24\u001b[0m\n\u001b[0;32m     17\u001b[0m                 \u001b[38;5;28mprint\u001b[39m (\u001b[38;5;124m'\u001b[39m\u001b[38;5;124mport : \u001b[39m\u001b[38;5;132;01m%s\u001b[39;00m\u001b[38;5;130;01m\\t\u001b[39;00m\u001b[38;5;124mstate : \u001b[39m\u001b[38;5;132;01m%s\u001b[39;00m\u001b[38;5;124m'\u001b[39m \u001b[38;5;241m%\u001b[39m (port, nm[host][proto][port][\u001b[38;5;124m'\u001b[39m\u001b[38;5;124mstate\u001b[39m\u001b[38;5;124m'\u001b[39m]))\n\u001b[0;32m     18\u001b[0m                 \u001b[38;5;28mprint\u001b[39m (\u001b[38;5;124m'\u001b[39m\u001b[38;5;124mname : \u001b[39m\u001b[38;5;132;01m%s\u001b[39;00m\u001b[38;5;130;01m\\t\u001b[39;00m\u001b[38;5;124mproduct : \u001b[39m\u001b[38;5;132;01m%s\u001b[39;00m\u001b[38;5;130;01m\\t\u001b[39;00m\u001b[38;5;124mversion : \u001b[39m\u001b[38;5;132;01m%s\u001b[39;00m\u001b[38;5;124m'\u001b[39m \u001b[38;5;241m%\u001b[39m (\n\u001b[0;32m     19\u001b[0m                     nm[host][proto][port][\u001b[38;5;124m'\u001b[39m\u001b[38;5;124mname\u001b[39m\u001b[38;5;124m'\u001b[39m],\n\u001b[0;32m     20\u001b[0m                     nm[host][proto][port][\u001b[38;5;124m'\u001b[39m\u001b[38;5;124mproduct\u001b[39m\u001b[38;5;124m'\u001b[39m],\n\u001b[0;32m     21\u001b[0m                     nm[host][proto][port][\u001b[38;5;124m'\u001b[39m\u001b[38;5;124mversion\u001b[39m\u001b[38;5;124m'\u001b[39m]\n\u001b[0;32m     22\u001b[0m                 ))\n\u001b[1;32m---> 24\u001b[0m \u001b[43mscan_network\u001b[49m\u001b[43m(\u001b[49m\u001b[43m)\u001b[49m\n",
      "Cell \u001b[1;32mIn[2], line 4\u001b[0m, in \u001b[0;36mscan_network\u001b[1;34m()\u001b[0m\n\u001b[0;32m      3\u001b[0m \u001b[38;5;28;01mdef\u001b[39;00m \u001b[38;5;21mscan_network\u001b[39m():\n\u001b[1;32m----> 4\u001b[0m     nm \u001b[38;5;241m=\u001b[39m \u001b[43mnmap\u001b[49m\u001b[38;5;241;43m.\u001b[39;49m\u001b[43mPortScanner\u001b[49m()\n\u001b[0;32m      5\u001b[0m     nm\u001b[38;5;241m.\u001b[39mscan(hosts\u001b[38;5;241m=\u001b[39m\u001b[38;5;124m'\u001b[39m\u001b[38;5;124m192.168.0.0/24\u001b[39m\u001b[38;5;124m'\u001b[39m, arguments\u001b[38;5;241m=\u001b[39m\u001b[38;5;124m'\u001b[39m\u001b[38;5;124m-p 1-65535 -sV -sS -A -O\u001b[39m\u001b[38;5;124m'\u001b[39m)\n\u001b[0;32m      7\u001b[0m     \u001b[38;5;28;01mfor\u001b[39;00m host \u001b[38;5;129;01min\u001b[39;00m nm\u001b[38;5;241m.\u001b[39mall_hosts():\n",
      "\u001b[1;31mAttributeError\u001b[0m: module 'nmap' has no attribute 'PortScanner'"
     ]
    }
   ],
   "source": [
    "import nmap\n",
    "\n",
    "def scan_network():\n",
    "    nm = nmap.PortScanner()\n",
    "    nm.scan(hosts='192.168.0.0/24', arguments='-p 1-65535 -sV -sS -A -O')\n",
    "\n",
    "    for host in nm.all_hosts():\n",
    "        print('Host : %s (%s)' % (host, nm[host].hostname()))\n",
    "        print('State : %s' % nm[host].state())\n",
    "\n",
    "        for proto in nm[host].all_protocols():\n",
    "            print('Protocol : %s' % proto)\n",
    "\n",
    "            lport = nm[host][proto].keys()\n",
    "            lport.sort()\n",
    "            for port in lport:\n",
    "                print ('port : %s\\tstate : %s' % (port, nm[host][proto][port]['state']))\n",
    "                print ('name : %s\\tproduct : %s\\tversion : %s' % (\n",
    "                    nm[host][proto][port]['name'],\n",
    "                    nm[host][proto][port]['product'],\n",
    "                    nm[host][proto][port]['version']\n",
    "                ))\n",
    "\n",
    "scan_network()\n"
   ]
  },
  {
   "cell_type": "code",
   "execution_count": null,
   "id": "ed2d0cf3-a4b3-4475-a429-ac29895a1c85",
   "metadata": {},
   "outputs": [],
   "source": []
  },
  {
   "cell_type": "code",
   "execution_count": null,
   "id": "5a236127-7b12-49eb-acb5-32248fd52d1e",
   "metadata": {},
   "outputs": [],
   "source": []
  },
  {
   "cell_type": "code",
   "execution_count": null,
   "id": "c90f0d37-eb23-4a06-8f6a-72a70e8b7ac4",
   "metadata": {},
   "outputs": [],
   "source": []
  },
  {
   "cell_type": "code",
   "execution_count": null,
   "id": "578651ce-5820-4518-b1db-252a004f2fcf",
   "metadata": {},
   "outputs": [],
   "source": []
  },
  {
   "cell_type": "code",
   "execution_count": null,
   "id": "03245cab-c85b-4759-b303-be19e200f3bc",
   "metadata": {},
   "outputs": [],
   "source": []
  }
 ],
 "metadata": {
  "kernelspec": {
   "display_name": "Python 3 (ipykernel)",
   "language": "python",
   "name": "python3"
  },
  "language_info": {
   "codemirror_mode": {
    "name": "ipython",
    "version": 3
   },
   "file_extension": ".py",
   "mimetype": "text/x-python",
   "name": "python",
   "nbconvert_exporter": "python",
   "pygments_lexer": "ipython3",
   "version": "3.11.1"
  }
 },
 "nbformat": 4,
 "nbformat_minor": 5
}
