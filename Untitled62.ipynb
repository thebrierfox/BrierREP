{
 "cells": [
  {
   "cell_type": "code",
   "execution_count": 3,
   "id": "02a2c22d-113d-4e5f-b318-486c8fab791d",
   "metadata": {
    "tags": []
   },
   "outputs": [
    {
     "name": "stdout",
     "output_type": "stream",
     "text": [
      "Could not find directory of local businesses.\n"
     ]
    }
   ],
   "source": [
    "import requests\n",
    "from bs4 import BeautifulSoup\n",
    "from urllib.parse import urljoin\n",
    "\n",
    "# specify the URL of the website to start with\n",
    "base_url = \"https://poplarbluffchamber.org/\"\n",
    "\n",
    "# send a GET request to the specified URL\n",
    "response = requests.get(base_url)\n",
    "\n",
    "# parse the HTML content of the website using BeautifulSoup\n",
    "soup = BeautifulSoup(response.content, 'html.parser')\n",
    "\n",
    "# find the link to the directory of local businesses\n",
    "directory_link = None\n",
    "for link in soup.find_all('a'):\n",
    "    if 'local businesses' in link.text.lower():\n",
    "        directory_link = urljoin(base_url, link['href'])\n",
    "        break\n",
    "\n",
    "# navigate to the directory of local businesses\n",
    "if directory_link:\n",
    "    response = requests.get(directory_link)\n",
    "    soup = BeautifulSoup(response.content, 'html.parser')\n",
    "\n",
    "    # find all the business names on the webpage\n",
    "    business_names = []\n",
    "    for business in soup.find_all('div', class_='business'):\n",
    "        business_name = business.find('a').text.strip()\n",
    "        business_names.append(business_name)\n",
    "\n",
    "    # write the business names to a .txt file\n",
    "    with open('business_names.txt', 'w') as file:\n",
    "        for name in business_names:\n",
    "            file.write(name + '\\n')\n",
    "\n",
    "    # print the business names\n",
    "    print(\"List of local businesses:\")\n",
    "    for name in business_names:\n",
    "        print(name)\n",
    "else:\n",
    "    print(\"Could not find directory of local businesses.\")"
   ]
  },
  {
   "cell_type": "code",
   "execution_count": null,
   "id": "b2bba444-c8a2-4c55-becd-beff3b292eaa",
   "metadata": {},
   "outputs": [],
   "source": []
  }
 ],
 "metadata": {
  "kernelspec": {
   "display_name": "Python 3 (ipykernel)",
   "language": "python",
   "name": "python3"
  },
  "language_info": {
   "codemirror_mode": {
    "name": "ipython",
    "version": 3
   },
   "file_extension": ".py",
   "mimetype": "text/x-python",
   "name": "python",
   "nbconvert_exporter": "python",
   "pygments_lexer": "ipython3",
   "version": "3.11.1"
  }
 },
 "nbformat": 4,
 "nbformat_minor": 5
}
