{
 "cells": [
  {
   "cell_type": "code",
   "execution_count": null,
   "id": "4feb882a-f8a4-42bc-b168-d16610379efd",
   "metadata": {},
   "outputs": [],
   "source": [
    "def train_best_model(df, scaler, best_model):\n",
    "    # Load and preprocess data\n",
    "    df = df.dropna()\n",
    "    df = df[[\"Close\", \"Volume\", \"Market Cap\", \"Open\", \"High\", \"Low\"]]\n",
    "    df = scaler.fit_transform(df)\n",
    "\n",
    "    # Define training and test sets\n",
    "    train_data = df[:int(df.shape[0]*0.8)]\n",
    "    test_data = df[int(df.shape[0]*0.8):]\n",
    "\n",
    "    # Prepare data for model\n",
    "    X_train = np.array([[0, 0, 1], [0, 1, 1], [1, 0, 1], [1, 1, 1], [0, 0, 0], [0, 1, 0], [1, 0, 0], [1, 1, 0]])\n",
    "    y_train = np.array([[0], [1], [1], [0], [0], [1], [1], [0]])\n",
    "    X_test, y_test = test_data[:,:-1], test_data[:,-1]\n",
    "    X_test = np.reshape(X_test, (X_test.shape[0], X_test.shape[1], 1))\n",
    "\n",
    "    # Train the model\n",
    "    best_model.fit(X_train, y_train, epochs=100, batch_size=32)\n",
    "\n",
    "    # Make predictions on test data\n",
    "    predictions = best_model.predict(X_test)\n",
    "\n",
    "    # Evaluate model performance\n",
    "    mse = np.mean((predictions-y_test)**2)\n",
    "    print(\"Mean Squared Error:\", mse)"
   ]
  }
 ],
 "metadata": {
  "kernelspec": {
   "display_name": "Python 3 (ipykernel)",
   "language": "python",
   "name": "python3"
  },
  "language_info": {
   "codemirror_mode": {
    "name": "ipython",
    "version": 3
   },
   "file_extension": ".py",
   "mimetype": "text/x-python",
   "name": "python",
   "nbconvert_exporter": "python",
   "pygments_lexer": "ipython3",
   "version": "3.11.1"
  }
 },
 "nbformat": 4,
 "nbformat_minor": 5
}
