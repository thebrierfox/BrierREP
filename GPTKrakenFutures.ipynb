{
 "cells": [
  {
   "cell_type": "code",
   "execution_count": null,
   "id": "40012e6d-53ae-4599-8f2b-7ffe1aea5fe1",
   "metadata": {
    "tags": []
   },
   "outputs": [],
   "source": [
    "import krakenex\n",
    "import pandas as pd\n",
    "import numpy as np\n",
    "import time\n",
    "import logging\n",
    "\n",
    "# Set up logging\n",
    "logging.basicConfig(filename='arbitrage.log', level=logging.INFO)\n",
    "\n",
    "# Initialize the Kraken API\n",
    "k = krakenex.API(key='XnJgS9K/il25pCTjJs7jPHvPFlYjbKg/HhJ+L13CKGSHfh8KUeJZVKm8', secret='7DaCbdMFIeLpk2XRyam+TRcSnxnwoGvoGffVzUiDRyUJHT/4r6GsesAMzcRFwY/JisyfcqaN0pAtX/ERpJSdGA==')\n",
    "\n",
    "def get_spread(pair):\n",
    "    # Get the OHLC (open, high, low, close) data for a futures contract\n",
    "    ohlcv = k.query_public('OHLC', {'pair': pair, 'interval': 1})\n",
    "    df = pd.DataFrame(ohlcv['result'][pair], columns=['time', 'open', 'high', 'low', 'close', 'vwap', 'volume', 'count'])\n",
    "    \n",
    "    # Calculate the spread between the bid and ask prices\n",
    "    spread = df['ask'] - df['bid']\n",
    "    \n",
    "    return spread\n",
    "\n",
    "def trade(pair, spread, threshold):\n",
    "    # Check if the spread is positive and above the threshold, indicating a profitable trade\n",
    "    if spread > threshold:\n",
    "        # Place a long trade on the bid price\n",
    "        # Place a short trade on the ask price\n",
    "        logging.info(\"Profitable trade opportunity detected for %s with spread %s\", pair, spread)\n",
    "        \n",
    "        # Monitor the open position and sell when the profit target is reached or stop loss is triggered\n",
    "        position = k.query_private('OpenPositions')['result']\n",
    "        if pair in position:\n",
    "            # Check if the profit target is reached\n",
    "            if position[pair]['profit'] >= profit_target:\n",
    "                # Execute a sell trade to close the position\n",
    "                # Place a short trade on the bid price\n",
    "                # Place a long trade on the ask price\n",
    "                logging.info(\"Profit target reached for %s, closing position\", pair)\n",
    "                \n",
    "            # Check if the stop loss is triggered\n",
    "            elif position[pair]['loss'] >= stop_loss:\n",
    "                # Execute a sell trade to close the position\n",
    "                # Place a short trade on the bid price\n",
    "                # Place a long trade on the ask price\n",
    "                logging.info(\"Stop loss triggered for %s, closing position\", pair)\n",
    "    else:\n",
    "        logging.info(\"No trade opportunity detected for %s with spread %s\", pair, spread)\n",
    "\n",
    "# Define the pairs to monitor\n",
    "pairs = k.query_public('AssetPairs')['result']\n",
    "pairs = [pair for pair in pairs if 'futures' in pairs[pair]['altname']]\n",
    "# Define the initial threshold for a profitable trade\n",
    "threshold = 0.01\n",
    "\n",
    "while True:\n",
    "    for pair in pairs:\n",
    "        spread = get_spread(pair)\n",
    "        trade(pair, spread, threshold)\n",
    "        \n",
    "        # Implement risk management techniques such as stop loss orders or position sizing\n",
    "        #stop_loss_order(pair)\n",
    "        #position_sizing(pair)\n",
    "        \n",
    "    time.sleep(60)\n"
   ]
  },
  {
   "cell_type": "code",
   "execution_count": null,
   "id": "eeae936d-13bf-4abf-a43f-ef71dc25ab1d",
   "metadata": {},
   "outputs": [],
   "source": []
  },
  {
   "cell_type": "code",
   "execution_count": null,
   "id": "6b3279ac-0191-4001-bf24-1fc0474d2f48",
   "metadata": {},
   "outputs": [],
   "source": []
  }
 ],
 "metadata": {
  "kernelspec": {
   "display_name": "Python 3 (ipykernel)",
   "language": "python",
   "name": "python3"
  },
  "language_info": {
   "codemirror_mode": {
    "name": "ipython",
    "version": 3
   },
   "file_extension": ".py",
   "mimetype": "text/x-python",
   "name": "python",
   "nbconvert_exporter": "python",
   "pygments_lexer": "ipython3",
   "version": "3.11.1"
  },
  "toc-showmarkdowntxt": false
 },
 "nbformat": 4,
 "nbformat_minor": 5
}
