{
 "cells": [
  {
   "cell_type": "code",
   "execution_count": 1,
   "id": "970495e4-b1ed-4a1f-81de-08891336757f",
   "metadata": {
    "tags": []
   },
   "outputs": [
    {
     "name": "stdin",
     "output_type": "stream",
     "text": [
      "Enter the list of stocks to analyze (comma-separated) or type 'all' for all available stocks:  all\n"
     ]
    },
    {
     "name": "stdout",
     "output_type": "stream",
     "text": [
      "No stocks meet the criteria.\n"
     ]
    }
   ],
   "source": [
    "import yfinance as yf\n",
    "from datetime import datetime, timedelta\n",
    "\n",
    "# Prompt the user for the list of stocks to analyze\n",
    "stocks_input = input(\"Enter the list of stocks to analyze (comma-separated) or type 'all' for all available stocks: \")\n",
    "if stocks_input.lower() == 'all':\n",
    "    stocks = ''\n",
    "else:\n",
    "    stocks = stocks_input.split(',')\n",
    "\n",
    "# Define the time frame for ex-dividend dates\n",
    "today = datetime.today()\n",
    "timeframe = timedelta(days=30)\n",
    "cutoff_date = today + timeframe\n",
    "\n",
    "# Retrieve a list of all stocks if 'all' option is chosen, otherwise filter the list of stocks based on the user input\n",
    "if stocks == '':\n",
    "    all_stocks = yf.Tickers(' ')\n",
    "    dividend_stocks = [s.ticker for s in all_stocks.tickers if s.info['dividendYield'] > 0 and s.dividends[-4:].sum() > 0]\n",
    "else:\n",
    "    dividend_stocks = [s.ticker for s in yf.Tickers(stocks).tickers if s.info['dividendYield'] > 0 and s.dividends[-4:].sum() > 0]\n",
    "\n",
    "# Filter the list to include only stocks with an upcoming ex-dividend date within the time frame and a reasonable dividend payout ratio\n",
    "ex_dividend_stocks = [s for s in dividend_stocks if yf.Ticker(s).history(start=cutoff_date)['Dividends'].sum() > 0 and yf.Ticker(s).info['payoutRatio'] < 0.5]\n",
    "\n",
    "# Print the list of available stocks based on the criteria\n",
    "if len(ex_dividend_stocks) > 0:\n",
    "    print(f\"The following {len(ex_dividend_stocks)} stocks meet the criteria:\")\n",
    "    for stock in ex_dividend_stocks:\n",
    "        print(stock)\n",
    "else:\n",
    "    print(\"No stocks meet the criteria.\")"
   ]
  },
  {
   "cell_type": "code",
   "execution_count": null,
   "id": "a73e0e49-0814-4ce9-bb91-1aaa0deb4fb1",
   "metadata": {},
   "outputs": [],
   "source": []
  }
 ],
 "metadata": {
  "kernelspec": {
   "display_name": "Python 3 (ipykernel)",
   "language": "python",
   "name": "python3"
  },
  "language_info": {
   "codemirror_mode": {
    "name": "ipython",
    "version": 3
   },
   "file_extension": ".py",
   "mimetype": "text/x-python",
   "name": "python",
   "nbconvert_exporter": "python",
   "pygments_lexer": "ipython3",
   "version": "3.11.1"
  }
 },
 "nbformat": 4,
 "nbformat_minor": 5
}
