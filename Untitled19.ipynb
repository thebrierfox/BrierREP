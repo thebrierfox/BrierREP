{
 "cells": [
  {
   "cell_type": "code",
   "execution_count": null,
   "id": "47daef66-34f8-43a1-b360-d4350956010c",
   "metadata": {
    "tags": []
   },
   "outputs": [],
   "source": [
    "## Create a model\n",
    "\n",
    "```python\n",
    "def create_model(optimizer='adam', activation='relu'):\n",
    "    model = Sequential()\n",
    "    model.add(Dense(12, input_dim=8, kernel_initializer='uniform', activation=activation))\n",
    "    model.add(Dense(8, kernel_initializer='uniform', activation=activation))\n",
    "    model.add(Dense(1, kernel_initializer='uniform', activation='sigmoid'))\n",
    "    model.compile(loss='binary_crossentropy', optimizer=optimizer, metrics=['accuracy'])\n",
    "    return model\n",
    "```\n",
    "\n",
    "## Create a model with the best hyperparameters\n",
    "\n",
    "```python\n",
    "best_model = create_model(optimizer=grid_result.best_params_['optimizer'], activation=grid_result.best_params_['activation'])\n",
    "```\n",
    "\n",
    "## Fit the model\n",
    "\n",
    "```python\n",
    "best_model.fit(X_train, y_train, epochs=150, batch_size=10, verbose=0)\n",
    "```\n",
    "\n",
    "## Evaluate the model\n",
    "\n",
    "```python\n",
    "scores = best_model.evaluate(X_train, y_train)\n",
    "print(\"\\n%s: %.2f%%\" % (best_model.metrics_names[1], scores[1]*100))\n",
    "```\n",
    "\n",
    "## Predict the model\n",
    "\n",
    "```python\n",
    "predictions = best_model.predict(X_test)\n",
    "rounded = [round(x[0]) for x in predictions]\n",
    "print(rounded)\n",
    "```\n",
    "\n",
    "## Save the model"
   ]
  }
 ],
 "metadata": {
  "kernelspec": {
   "display_name": "Python 3 (ipykernel)",
   "language": "python",
   "name": "python3"
  },
  "language_info": {
   "codemirror_mode": {
    "name": "ipython",
    "version": 3
   },
   "file_extension": ".py",
   "mimetype": "text/x-python",
   "name": "python",
   "nbconvert_exporter": "python",
   "pygments_lexer": "ipython3",
   "version": "3.11.1"
  }
 },
 "nbformat": 4,
 "nbformat_minor": 5
}
