{
 "cells": [
  {
   "cell_type": "code",
   "execution_count": 3,
   "id": "79b7a594-032e-4b60-bed5-e493762aa183",
   "metadata": {
    "tags": []
   },
   "outputs": [
    {
     "ename": "AttributeError",
     "evalue": "'NoneType' object has no attribute 'find_all'",
     "output_type": "error",
     "traceback": [
      "\u001b[1;31m---------------------------------------------------------------------------\u001b[0m",
      "\u001b[1;31mAttributeError\u001b[0m                            Traceback (most recent call last)",
      "Cell \u001b[1;32mIn[3], line 16\u001b[0m\n\u001b[0;32m     13\u001b[0m table \u001b[38;5;241m=\u001b[39m soup\u001b[38;5;241m.\u001b[39mfind(\u001b[38;5;124m\"\u001b[39m\u001b[38;5;124mtable\u001b[39m\u001b[38;5;124m\"\u001b[39m, {\u001b[38;5;124m\"\u001b[39m\u001b[38;5;124mclass\u001b[39m\u001b[38;5;124m\"\u001b[39m: \u001b[38;5;124m\"\u001b[39m\u001b[38;5;124mtable performance-table\u001b[39m\u001b[38;5;124m\"\u001b[39m})\n\u001b[0;32m     15\u001b[0m \u001b[38;5;66;03m# Find the rows in the table\u001b[39;00m\n\u001b[1;32m---> 16\u001b[0m rows \u001b[38;5;241m=\u001b[39m \u001b[43mtable\u001b[49m\u001b[38;5;241;43m.\u001b[39;49m\u001b[43mfind_all\u001b[49m(\u001b[38;5;124m\"\u001b[39m\u001b[38;5;124mtr\u001b[39m\u001b[38;5;124m\"\u001b[39m)\n\u001b[0;32m     18\u001b[0m \u001b[38;5;66;03m# Extract the tickers from the rows\u001b[39;00m\n\u001b[0;32m     19\u001b[0m tickers \u001b[38;5;241m=\u001b[39m []\n",
      "\u001b[1;31mAttributeError\u001b[0m: 'NoneType' object has no attribute 'find_all'"
     ]
    }
   ],
   "source": [
    "import requests\n",
    "from bs4 import BeautifulSoup\n",
    "import csv\n",
    "\n",
    "# Send a GET request to the webpage\n",
    "url = \"https://www.dividend.com/best-high-dividend-stocks/\"\n",
    "response = requests.get(url)\n",
    "\n",
    "# Parse the HTML response using BeautifulSoup\n",
    "soup = BeautifulSoup(response.content, \"html.parser\")\n",
    "\n",
    "# Find the table element that contains the tickers\n",
    "table = soup.find(\"table\", {\"class\": \"table performance-table\"})\n",
    "\n",
    "# Find the rows in the table\n",
    "rows = table.find_all(\"tr\")\n",
    "\n",
    "# Extract the tickers from the rows\n",
    "tickers = []\n",
    "for row in rows:\n",
    "    ticker = row.find(\"a\").text\n",
    "    tickers.append(ticker)\n",
    "\n",
    "# Save the tickers to a CSV file\n",
    "with open(\"tickers.csv\", \"w\", newline=\"\") as csvfile:\n",
    "    writer = csv.writer(csvfile)\n",
    "    writer.writerow([\"Ticker\"])\n",
    "    for ticker in tickers:\n",
    "        writer.writerow([ticker])\n"
   ]
  },
  {
   "cell_type": "code",
   "execution_count": null,
   "id": "7695c4c0-d1e7-4e40-a416-eeb0ab932318",
   "metadata": {},
   "outputs": [],
   "source": []
  }
 ],
 "metadata": {
  "kernelspec": {
   "display_name": "Python 3 (ipykernel)",
   "language": "python",
   "name": "python3"
  },
  "language_info": {
   "codemirror_mode": {
    "name": "ipython",
    "version": 3
   },
   "file_extension": ".py",
   "mimetype": "text/x-python",
   "name": "python",
   "nbconvert_exporter": "python",
   "pygments_lexer": "ipython3",
   "version": "3.11.1"
  }
 },
 "nbformat": 4,
 "nbformat_minor": 5
}
