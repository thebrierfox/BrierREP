{
 "cells": [
  {
   "cell_type": "code",
   "execution_count": null,
   "id": "2854a455-4fc9-4633-8ea0-92d4bef4e896",
   "metadata": {},
   "outputs": [],
   "source": [
    "import os\n",
    "from alpha_vantage.timeseries import TimeSeries\n",
    "from alpha_vantage.techindicators import TechIndicators\n",
    "import pandas as pd\n",
    "\n",
    "API_KEY = 'your_api_key_here'\n",
    "STOCK_TO_TRACK = 'AAPL'\n",
    "CASH = 111\n",
    "\n",
    "def get_stock_data(symbol, interval='daily', outputsize='compact'):\n",
    "    ts = TimeSeries(key=API_KEY, output_format='pandas')\n",
    "    data, _ = ts.get_daily_adjusted(symbol=symbol, outputsize=outputsize)\n",
    "    return data\n",
    "\n",
    "def get_moving_averages(symbol, interval='daily', time_period=20, series_type='close'):\n",
    "    ti = TechIndicators(key=API_KEY, output_format='pandas')\n",
    "    data, _ = ti.get_sma(symbol=symbol, interval=interval, time_period=time_period, series_type=series_type)\n",
    "    return data\n",
    "\n",
    "def execute_trading_strategy():\n",
    "    stock_data = get_stock_data(STOCK_TO_TRACK)\n",
    "    sma_20 = get_moving_averages(STOCK_TO_TRACK, time_period=20)\n",
    "    sma_50 = get_moving_averages(STOCK_TO_TRACK, time_period=50)\n",
    "\n",
    "    merged_data = pd.concat([stock_data, sma_20, sma_50], axis=1).dropna()\n",
    "    merged_data.columns = ['open', 'high', 'low', 'close', 'adjusted_close', 'volume', 'dividend', 'split_coeff', 'sma_20', 'sma_50']\n",
    "\n",
    "    in_position = False\n",
    "    shares = 0\n",
    "    profit = 0\n",
    "\n",
    "    for index, row in merged_data.iterrows():\n",
    "        if not in_position and row['sma_20'] > row['sma_50']:\n",
    "            shares = CASH // row['adjusted_close']\n",
    "            in_position = True\n",
    "            print(f\"Buying {shares} shares of {STOCK_TO_TRACK} at {row['adjusted_close']}\")\n",
    "        elif in_position and row['sma_20'] < row['sma_50']:\n",
    "            in_position = False\n",
    "            profit += shares * row['adjusted_close'] - CASH\n",
    "            print(f\"Selling {shares} shares of {STOCK_TO_TRACK} at {row['adjusted_close']}, profit: {profit}\")\n",
    "            break\n",
    "\n",
    "if __name__ == \"__main__\":\n",
    "    execute_trading_strategy()\n"
   ]
  }
 ],
 "metadata": {
  "kernelspec": {
   "display_name": "Python 3 (ipykernel)",
   "language": "python",
   "name": "python3"
  },
  "language_info": {
   "codemirror_mode": {
    "name": "ipython",
    "version": 3
   },
   "file_extension": ".py",
   "mimetype": "text/x-python",
   "name": "python",
   "nbconvert_exporter": "python",
   "pygments_lexer": "ipython3",
   "version": "3.11.1"
  }
 },
 "nbformat": 4,
 "nbformat_minor": 5
}
